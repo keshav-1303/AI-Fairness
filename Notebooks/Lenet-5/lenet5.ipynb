{
  "cells": [
    {
      "cell_type": "code",
      "execution_count": 1,
      "metadata": {
        "colab": {
          "base_uri": "https://localhost:8080/"
        },
        "id": "Mn71AEly_ql2",
        "outputId": "700c787e-3718-4a8f-8412-67b24bf945ee"
      },
      "outputs": [
        {
          "output_type": "stream",
          "name": "stdout",
          "text": [
            "Downloading data from https://storage.googleapis.com/tensorflow/tf-keras-datasets/mnist.npz\n",
            "\u001b[1m11490434/11490434\u001b[0m \u001b[32m━━━━━━━━━━━━━━━━━━━━\u001b[0m\u001b[37m\u001b[0m \u001b[1m2s\u001b[0m 0us/step\n"
          ]
        },
        {
          "output_type": "stream",
          "name": "stderr",
          "text": [
            "/usr/local/lib/python3.11/dist-packages/keras/src/layers/convolutional/base_conv.py:107: UserWarning: Do not pass an `input_shape`/`input_dim` argument to a layer. When using Sequential models, prefer using an `Input(shape)` object as the first layer in the model instead.\n",
            "  super().__init__(activity_regularizer=activity_regularizer, **kwargs)\n"
          ]
        },
        {
          "output_type": "stream",
          "name": "stdout",
          "text": [
            "Epoch 1/15\n",
            "\u001b[1m469/469\u001b[0m \u001b[32m━━━━━━━━━━━━━━━━━━━━\u001b[0m\u001b[37m\u001b[0m \u001b[1m9s\u001b[0m 9ms/step - accuracy: 0.8436 - loss: 0.5460 - val_accuracy: 0.9528 - val_loss: 0.1557\n",
            "Epoch 2/15\n",
            "\u001b[1m469/469\u001b[0m \u001b[32m━━━━━━━━━━━━━━━━━━━━\u001b[0m\u001b[37m\u001b[0m \u001b[1m5s\u001b[0m 4ms/step - accuracy: 0.9602 - loss: 0.1309 - val_accuracy: 0.9685 - val_loss: 0.1038\n",
            "Epoch 3/15\n",
            "\u001b[1m469/469\u001b[0m \u001b[32m━━━━━━━━━━━━━━━━━━━━\u001b[0m\u001b[37m\u001b[0m \u001b[1m2s\u001b[0m 4ms/step - accuracy: 0.9743 - loss: 0.0840 - val_accuracy: 0.9782 - val_loss: 0.0722\n",
            "Epoch 4/15\n",
            "\u001b[1m469/469\u001b[0m \u001b[32m━━━━━━━━━━━━━━━━━━━━\u001b[0m\u001b[37m\u001b[0m \u001b[1m2s\u001b[0m 4ms/step - accuracy: 0.9818 - loss: 0.0596 - val_accuracy: 0.9810 - val_loss: 0.0603\n",
            "Epoch 5/15\n",
            "\u001b[1m469/469\u001b[0m \u001b[32m━━━━━━━━━━━━━━━━━━━━\u001b[0m\u001b[37m\u001b[0m \u001b[1m3s\u001b[0m 5ms/step - accuracy: 0.9866 - loss: 0.0451 - val_accuracy: 0.9823 - val_loss: 0.0562\n",
            "Epoch 6/15\n",
            "\u001b[1m469/469\u001b[0m \u001b[32m━━━━━━━━━━━━━━━━━━━━\u001b[0m\u001b[37m\u001b[0m \u001b[1m2s\u001b[0m 5ms/step - accuracy: 0.9891 - loss: 0.0364 - val_accuracy: 0.9840 - val_loss: 0.0504\n",
            "Epoch 7/15\n",
            "\u001b[1m469/469\u001b[0m \u001b[32m━━━━━━━━━━━━━━━━━━━━\u001b[0m\u001b[37m\u001b[0m \u001b[1m2s\u001b[0m 4ms/step - accuracy: 0.9919 - loss: 0.0282 - val_accuracy: 0.9847 - val_loss: 0.0470\n",
            "Epoch 8/15\n",
            "\u001b[1m469/469\u001b[0m \u001b[32m━━━━━━━━━━━━━━━━━━━━\u001b[0m\u001b[37m\u001b[0m \u001b[1m2s\u001b[0m 4ms/step - accuracy: 0.9931 - loss: 0.0221 - val_accuracy: 0.9841 - val_loss: 0.0462\n",
            "Epoch 9/15\n",
            "\u001b[1m469/469\u001b[0m \u001b[32m━━━━━━━━━━━━━━━━━━━━\u001b[0m\u001b[37m\u001b[0m \u001b[1m2s\u001b[0m 4ms/step - accuracy: 0.9944 - loss: 0.0185 - val_accuracy: 0.9847 - val_loss: 0.0441\n",
            "Epoch 10/15\n",
            "\u001b[1m469/469\u001b[0m \u001b[32m━━━━━━━━━━━━━━━━━━━━\u001b[0m\u001b[37m\u001b[0m \u001b[1m2s\u001b[0m 4ms/step - accuracy: 0.9961 - loss: 0.0131 - val_accuracy: 0.9849 - val_loss: 0.0441\n",
            "Epoch 11/15\n",
            "\u001b[1m469/469\u001b[0m \u001b[32m━━━━━━━━━━━━━━━━━━━━\u001b[0m\u001b[37m\u001b[0m \u001b[1m2s\u001b[0m 4ms/step - accuracy: 0.9962 - loss: 0.0126 - val_accuracy: 0.9847 - val_loss: 0.0465\n",
            "Epoch 12/15\n",
            "\u001b[1m469/469\u001b[0m \u001b[32m━━━━━━━━━━━━━━━━━━━━\u001b[0m\u001b[37m\u001b[0m \u001b[1m2s\u001b[0m 4ms/step - accuracy: 0.9975 - loss: 0.0097 - val_accuracy: 0.9854 - val_loss: 0.0475\n",
            "Epoch 13/15\n",
            "\u001b[1m469/469\u001b[0m \u001b[32m━━━━━━━━━━━━━━━━━━━━\u001b[0m\u001b[37m\u001b[0m \u001b[1m2s\u001b[0m 4ms/step - accuracy: 0.9975 - loss: 0.0090 - val_accuracy: 0.9848 - val_loss: 0.0490\n",
            "Epoch 14/15\n",
            "\u001b[1m469/469\u001b[0m \u001b[32m━━━━━━━━━━━━━━━━━━━━\u001b[0m\u001b[37m\u001b[0m \u001b[1m2s\u001b[0m 4ms/step - accuracy: 0.9981 - loss: 0.0070 - val_accuracy: 0.9845 - val_loss: 0.0491\n",
            "Epoch 15/15\n",
            "\u001b[1m469/469\u001b[0m \u001b[32m━━━━━━━━━━━━━━━━━━━━\u001b[0m\u001b[37m\u001b[0m \u001b[1m2s\u001b[0m 4ms/step - accuracy: 0.9971 - loss: 0.0087 - val_accuracy: 0.9856 - val_loss: 0.0497\n"
          ]
        },
        {
          "output_type": "stream",
          "name": "stderr",
          "text": [
            "WARNING:absl:You are saving your model as an HDF5 file via `model.save()` or `keras.saving.save_model(model)`. This file format is considered legacy. We recommend using instead the native Keras format, e.g. `model.save('my_model.keras')` or `keras.saving.save_model(model, 'my_model.keras')`. \n"
          ]
        }
      ],
      "source": [
        "import tensorflow as tf\n",
        "from tensorflow.keras import layers, models\n",
        "import numpy as np\n",
        "import matplotlib.pyplot as plt\n",
        "\n",
        "# Load and preprocess the MNIST dataset\n",
        "(x_train, y_train), (x_test, y_test) = tf.keras.datasets.mnist.load_data()\n",
        "\n",
        "# Normalize images to [0,1] range\n",
        "x_train, x_test = x_train / 255.0, x_test / 255.0\n",
        "\n",
        "# Resize images from 28x28 to 32x32 by padding\n",
        "x_train = np.pad(x_train, ((0,0), (2,2), (2,2)), mode='constant')\n",
        "x_test = np.pad(x_test, ((0,0), (2,2), (2,2)), mode='constant')\n",
        "\n",
        "# Reshape to (num_samples, 32, 32, 1)\n",
        "x_train = x_train.reshape(-1, 32, 32, 1)\n",
        "x_test = x_test.reshape(-1, 32, 32, 1)\n",
        "\n",
        "def LeNet5():\n",
        "    model = models.Sequential([\n",
        "        layers.Conv2D(6, (5,5), activation='tanh', padding='same', input_shape=(32,32,1)),\n",
        "        layers.AvgPool2D((2,2), strides=2),\n",
        "        layers.Conv2D(16, (5,5), activation='tanh'),\n",
        "        layers.AvgPool2D((2,2), strides=2),\n",
        "        layers.Conv2D(120, (5,5), activation='tanh'),\n",
        "        layers.Flatten(),\n",
        "        layers.Dense(84, activation='tanh'),\n",
        "        layers.Dense(10, activation='softmax')  #output layer(0-9 digits)\n",
        "    ])\n",
        "    return model\n",
        "\n",
        "# Create and compile the model\n",
        "model = LeNet5()\n",
        "model.compile(optimizer='adam', loss='sparse_categorical_crossentropy', metrics=['accuracy'])\n",
        "# Train the model\n",
        "history = model.fit(x_train, y_train, epochs=15, batch_size=128, validation_data=(x_test, y_test))\n",
        "\n",
        "model.save(\"lenet5_mnist.h5\")"
      ]
    },
    {
      "cell_type": "code",
      "execution_count": 3,
      "metadata": {
        "colab": {
          "base_uri": "https://localhost:8080/",
          "height": 539
        },
        "id": "nlsIwHROifsT",
        "outputId": "9cc14929-6ab7-4714-f14c-dfd9074977ee"
      },
      "outputs": [
        {
          "output_type": "stream",
          "name": "stderr",
          "text": [
            "WARNING:absl:Compiled the loaded model, but the compiled metrics have yet to be built. `model.compile_metrics` will be empty until you train or evaluate the model.\n"
          ]
        },
        {
          "output_type": "display_data",
          "data": {
            "text/plain": [
              "<IPython.core.display.HTML object>"
            ],
            "text/html": [
              "\n",
              "     <input type=\"file\" id=\"files-654af341-e267-4e17-bbfc-ea73bf53e1f6\" name=\"files[]\" multiple disabled\n",
              "        style=\"border:none\" />\n",
              "     <output id=\"result-654af341-e267-4e17-bbfc-ea73bf53e1f6\">\n",
              "      Upload widget is only available when the cell has been executed in the\n",
              "      current browser session. Please rerun this cell to enable.\n",
              "      </output>\n",
              "      <script>// Copyright 2017 Google LLC\n",
              "//\n",
              "// Licensed under the Apache License, Version 2.0 (the \"License\");\n",
              "// you may not use this file except in compliance with the License.\n",
              "// You may obtain a copy of the License at\n",
              "//\n",
              "//      http://www.apache.org/licenses/LICENSE-2.0\n",
              "//\n",
              "// Unless required by applicable law or agreed to in writing, software\n",
              "// distributed under the License is distributed on an \"AS IS\" BASIS,\n",
              "// WITHOUT WARRANTIES OR CONDITIONS OF ANY KIND, either express or implied.\n",
              "// See the License for the specific language governing permissions and\n",
              "// limitations under the License.\n",
              "\n",
              "/**\n",
              " * @fileoverview Helpers for google.colab Python module.\n",
              " */\n",
              "(function(scope) {\n",
              "function span(text, styleAttributes = {}) {\n",
              "  const element = document.createElement('span');\n",
              "  element.textContent = text;\n",
              "  for (const key of Object.keys(styleAttributes)) {\n",
              "    element.style[key] = styleAttributes[key];\n",
              "  }\n",
              "  return element;\n",
              "}\n",
              "\n",
              "// Max number of bytes which will be uploaded at a time.\n",
              "const MAX_PAYLOAD_SIZE = 100 * 1024;\n",
              "\n",
              "function _uploadFiles(inputId, outputId) {\n",
              "  const steps = uploadFilesStep(inputId, outputId);\n",
              "  const outputElement = document.getElementById(outputId);\n",
              "  // Cache steps on the outputElement to make it available for the next call\n",
              "  // to uploadFilesContinue from Python.\n",
              "  outputElement.steps = steps;\n",
              "\n",
              "  return _uploadFilesContinue(outputId);\n",
              "}\n",
              "\n",
              "// This is roughly an async generator (not supported in the browser yet),\n",
              "// where there are multiple asynchronous steps and the Python side is going\n",
              "// to poll for completion of each step.\n",
              "// This uses a Promise to block the python side on completion of each step,\n",
              "// then passes the result of the previous step as the input to the next step.\n",
              "function _uploadFilesContinue(outputId) {\n",
              "  const outputElement = document.getElementById(outputId);\n",
              "  const steps = outputElement.steps;\n",
              "\n",
              "  const next = steps.next(outputElement.lastPromiseValue);\n",
              "  return Promise.resolve(next.value.promise).then((value) => {\n",
              "    // Cache the last promise value to make it available to the next\n",
              "    // step of the generator.\n",
              "    outputElement.lastPromiseValue = value;\n",
              "    return next.value.response;\n",
              "  });\n",
              "}\n",
              "\n",
              "/**\n",
              " * Generator function which is called between each async step of the upload\n",
              " * process.\n",
              " * @param {string} inputId Element ID of the input file picker element.\n",
              " * @param {string} outputId Element ID of the output display.\n",
              " * @return {!Iterable<!Object>} Iterable of next steps.\n",
              " */\n",
              "function* uploadFilesStep(inputId, outputId) {\n",
              "  const inputElement = document.getElementById(inputId);\n",
              "  inputElement.disabled = false;\n",
              "\n",
              "  const outputElement = document.getElementById(outputId);\n",
              "  outputElement.innerHTML = '';\n",
              "\n",
              "  const pickedPromise = new Promise((resolve) => {\n",
              "    inputElement.addEventListener('change', (e) => {\n",
              "      resolve(e.target.files);\n",
              "    });\n",
              "  });\n",
              "\n",
              "  const cancel = document.createElement('button');\n",
              "  inputElement.parentElement.appendChild(cancel);\n",
              "  cancel.textContent = 'Cancel upload';\n",
              "  const cancelPromise = new Promise((resolve) => {\n",
              "    cancel.onclick = () => {\n",
              "      resolve(null);\n",
              "    };\n",
              "  });\n",
              "\n",
              "  // Wait for the user to pick the files.\n",
              "  const files = yield {\n",
              "    promise: Promise.race([pickedPromise, cancelPromise]),\n",
              "    response: {\n",
              "      action: 'starting',\n",
              "    }\n",
              "  };\n",
              "\n",
              "  cancel.remove();\n",
              "\n",
              "  // Disable the input element since further picks are not allowed.\n",
              "  inputElement.disabled = true;\n",
              "\n",
              "  if (!files) {\n",
              "    return {\n",
              "      response: {\n",
              "        action: 'complete',\n",
              "      }\n",
              "    };\n",
              "  }\n",
              "\n",
              "  for (const file of files) {\n",
              "    const li = document.createElement('li');\n",
              "    li.append(span(file.name, {fontWeight: 'bold'}));\n",
              "    li.append(span(\n",
              "        `(${file.type || 'n/a'}) - ${file.size} bytes, ` +\n",
              "        `last modified: ${\n",
              "            file.lastModifiedDate ? file.lastModifiedDate.toLocaleDateString() :\n",
              "                                    'n/a'} - `));\n",
              "    const percent = span('0% done');\n",
              "    li.appendChild(percent);\n",
              "\n",
              "    outputElement.appendChild(li);\n",
              "\n",
              "    const fileDataPromise = new Promise((resolve) => {\n",
              "      const reader = new FileReader();\n",
              "      reader.onload = (e) => {\n",
              "        resolve(e.target.result);\n",
              "      };\n",
              "      reader.readAsArrayBuffer(file);\n",
              "    });\n",
              "    // Wait for the data to be ready.\n",
              "    let fileData = yield {\n",
              "      promise: fileDataPromise,\n",
              "      response: {\n",
              "        action: 'continue',\n",
              "      }\n",
              "    };\n",
              "\n",
              "    // Use a chunked sending to avoid message size limits. See b/62115660.\n",
              "    let position = 0;\n",
              "    do {\n",
              "      const length = Math.min(fileData.byteLength - position, MAX_PAYLOAD_SIZE);\n",
              "      const chunk = new Uint8Array(fileData, position, length);\n",
              "      position += length;\n",
              "\n",
              "      const base64 = btoa(String.fromCharCode.apply(null, chunk));\n",
              "      yield {\n",
              "        response: {\n",
              "          action: 'append',\n",
              "          file: file.name,\n",
              "          data: base64,\n",
              "        },\n",
              "      };\n",
              "\n",
              "      let percentDone = fileData.byteLength === 0 ?\n",
              "          100 :\n",
              "          Math.round((position / fileData.byteLength) * 100);\n",
              "      percent.textContent = `${percentDone}% done`;\n",
              "\n",
              "    } while (position < fileData.byteLength);\n",
              "  }\n",
              "\n",
              "  // All done.\n",
              "  yield {\n",
              "    response: {\n",
              "      action: 'complete',\n",
              "    }\n",
              "  };\n",
              "}\n",
              "\n",
              "scope.google = scope.google || {};\n",
              "scope.google.colab = scope.google.colab || {};\n",
              "scope.google.colab._files = {\n",
              "  _uploadFiles,\n",
              "  _uploadFilesContinue,\n",
              "};\n",
              "})(self);\n",
              "</script> "
            ]
          },
          "metadata": {}
        },
        {
          "output_type": "stream",
          "name": "stdout",
          "text": [
            "Saving Screenshot 2025-07-07 235109.png to Screenshot 2025-07-07 235109 (1).png\n",
            "\u001b[1m1/1\u001b[0m \u001b[32m━━━━━━━━━━━━━━━━━━━━\u001b[0m\u001b[37m\u001b[0m \u001b[1m1s\u001b[0m 510ms/step\n"
          ]
        },
        {
          "output_type": "display_data",
          "data": {
            "text/plain": [
              "<Figure size 640x480 with 1 Axes>"
            ],
            "image/png": "[encoded data removed]"
          },
          "metadata": {}
        }
      ],
      "source": [
        "import cv2\n",
        "import numpy as np\n",
        "import matplotlib.pyplot as plt\n",
        "import tensorflow as tf\n",
        "from google.colab import files\n",
        "\n",
        "# Load the trained model\n",
        "model = tf.keras.models.load_model(\"lenet5_mnist.h5\")\n",
        "\n",
        "# Upload an image\n",
        "uploaded = files.upload()\n",
        "\n",
        "# Get the file name\n",
        "image_path = list(uploaded.keys())[0]  # Store the uploaded filename\n",
        "\n",
        "# Load the image as grayscale\n",
        "image = cv2.imread(image_path, cv2.IMREAD_GRAYSCALE)  # Use image_path instead of three.jpg\n",
        "\n",
        "# Check if the image is 28x28\n",
        "if image.shape != (28, 28):\n",
        "    # Resize the image to 28x28 if it's not\n",
        "    image = cv2.resize(image, (28, 28), interpolation=cv2.INTER_AREA)\n",
        "\n",
        "# Resize from 28x28 to 32x32 by padding\n",
        "image = np.pad(image, ((2, 2), (2, 2)), mode='constant', constant_values=0)\n",
        "\n",
        "# Normalize (convert pixel values to range [0,1])\n",
        "image = image / 255.0\n",
        "\n",
        "# Reshape to match the input shape (1, 32, 32, 1)\n",
        "image = image.reshape(1, 32, 32, 1)\n",
        "\n",
        "# Predict\n",
        "prediction = model.predict(image)\n",
        "predicted_label = np.argmax(prediction)\n",
        "\n",
        "# Display the image and prediction\n",
        "plt.imshow(image.reshape(32, 32), cmap='gray')\n",
        "plt.title(f\"Predicted Digit: {predicted_label}\")\n",
        "plt.axis('off')\n",
        "plt.show()"
      ]
    },
    {
      "cell_type": "code",
      "execution_count": 4,
      "metadata": {
        "colab": {
          "base_uri": "https://localhost:8080/",
          "height": 467
        },
        "id": "oIR9OBM6VtIV",
        "outputId": "b327aafe-cd75-4474-daeb-cce83b4d0cf3"
      },
      "outputs": [
        {
          "output_type": "stream",
          "name": "stdout",
          "text": [
            "\u001b[1m313/313\u001b[0m \u001b[32m━━━━━━━━━━━━━━━━━━━━\u001b[0m\u001b[37m\u001b[0m \u001b[1m2s\u001b[0m 4ms/step - accuracy: 0.9835 - loss: 0.0585\n",
            "\n",
            "Test accuracy: 0.9856\n",
            "\u001b[1m1/1\u001b[0m \u001b[32m━━━━━━━━━━━━━━━━━━━━\u001b[0m\u001b[37m\u001b[0m \u001b[1m1s\u001b[0m 586ms/step\n"
          ]
        },
        {
          "output_type": "display_data",
          "data": {
            "text/plain": [
              "<Figure size 1000x400 with 10 Axes>"
            ],
            "image/png": "[encoded data removed]"
          },
          "metadata": {}
        },
        {
          "output_type": "stream",
          "name": "stderr",
          "text": [
            "WARNING:absl:You are saving your model as an HDF5 file via `model.save()` or `keras.saving.save_model(model)`. This file format is considered legacy. We recommend using instead the native Keras format, e.g. `model.save('my_model.keras')` or `keras.saving.save_model(model, 'my_model.keras')`. \n"
          ]
        }
      ],
      "source": [
        "# Evaluate the model\n",
        "test_loss, test_acc = model.evaluate(x_test, y_test)\n",
        "print(f\"\\nTest accuracy: {test_acc:.4f}\")\n",
        "\n",
        "# Visualize predictions\n",
        "predictions = model.predict(x_test[:10])\n",
        "plt.figure(figsize=(10,4))\n",
        "for i in range(10):\n",
        "    plt.subplot(2,5,i+1)\n",
        "    plt.imshow(x_test[i].reshape(32,32), cmap='gray')  # Change to 32x32\n",
        "    plt.title(f\"Pred: {np.argmax(predictions[i])}\")\n",
        "    plt.axis('off')\n",
        "plt.show()\n",
        "\n",
        "\n",
        "# Save the model\n",
        "model.save(\"lenet5_mnist.h5\")\n"
      ]
    },
    {
      "cell_type": "code",
      "execution_count": 5,
      "metadata": {
        "colab": {
          "base_uri": "https://localhost:8080/",
          "height": 619
        },
        "id": "u8Y4EHSHVAn8",
        "outputId": "3e1e58ee-1613-4f16-f040-e8b9145ea943"
      },
      "outputs": [
        {
          "output_type": "stream",
          "name": "stderr",
          "text": [
            "WARNING:absl:Compiled the loaded model, but the compiled metrics have yet to be built. `model.compile_metrics` will be empty until you train or evaluate the model.\n"
          ]
        },
        {
          "output_type": "stream",
          "name": "stdout",
          "text": [
            "\u001b[1m313/313\u001b[0m \u001b[32m━━━━━━━━━━━━━━━━━━━━\u001b[0m\u001b[37m\u001b[0m \u001b[1m1s\u001b[0m 3ms/step\n"
          ]
        },
        {
          "output_type": "display_data",
          "data": {
            "text/plain": [
              "<Figure size 800x600 with 2 Axes>"
            ],
            "image/png": "[encoded data removed]"
          },
          "metadata": {}
        }
      ],
      "source": [
        "import tensorflow as tf\n",
        "from sklearn.metrics import confusion_matrix\n",
        "import seaborn as sns\n",
        "import matplotlib.pyplot as plt\n",
        "\n",
        "model = tf.keras.models.load_model(\"lenet5_mnist.h5\")\n",
        "# Make predictions on the test set\n",
        "y_pred = np.argmax(model.predict(x_test), axis=1)\n",
        "\n",
        "# Calculate confusion matrix\n",
        "cm = confusion_matrix(y_test, y_pred)\n",
        "\n",
        "# Plot confusion matrix\n",
        "plt.figure(figsize=(8, 6))\n",
        "sns.heatmap(cm, annot=True, fmt='d', cmap='Blues', xticklabels=range(10), yticklabels=range(10))\n",
        "plt.title('Confusion Matrix')\n",
        "plt.xlabel('Predicted')\n",
        "plt.ylabel('True')\n",
        "plt.show()\n"
      ]
    },
    {
      "cell_type": "code",
      "execution_count": 6,
      "metadata": {
        "colab": {
          "base_uri": "https://localhost:8080/"
        },
        "id": "xxBx024loNcn",
        "outputId": "5b196690-2fc8-4717-f6bb-ca0d6bb663e0"
      },
      "outputs": [
        {
          "output_type": "stream",
          "name": "stdout",
          "text": [
            "Training Accuracy: 0.9976\n",
            "Test Accuracy: 0.9856\n",
            " Model is Generalizing Well.\n"
          ]
        }
      ],
      "source": [
        "train_loss, train_acc = model.evaluate(x_train, y_train, verbose=0)\n",
        "print(f\"Training Accuracy: {train_acc:.4f}\")\n",
        "\n",
        "\n",
        "test_loss, test_acc = model.evaluate(x_test, y_test, verbose=0)\n",
        "print(f\"Test Accuracy: {test_acc:.4f}\")\n",
        "\n",
        "\n",
        "if train_acc > test_acc + 0.05:\n",
        "    print(\" Possible Overfitting Detected!\")\n",
        "else:\n",
        "    print(\" Model is Generalizing Well.\")"
      ]
    },
    {
      "cell_type": "code",
      "execution_count": 7,
      "metadata": {
        "colab": {
          "base_uri": "https://localhost:8080/",
          "height": 713
        },
        "id": "mIT7OjNK_nl7",
        "outputId": "cc531382-108d-497d-9ac4-41e840c68554"
      },
      "outputs": [
        {
          "output_type": "stream",
          "name": "stdout",
          "text": [
            "\u001b[1m313/313\u001b[0m \u001b[32m━━━━━━━━━━━━━━━━━━━━\u001b[0m\u001b[37m\u001b[0m \u001b[1m0s\u001b[0m 1ms/step\n",
            "Treatment Equality Ratios per Class (Digit):\n",
            "Digit 0: 0.2667\n",
            "Digit 1: 0.5556\n",
            "Digit 2: 0.5455\n",
            "Digit 3: 1.9091\n",
            "Digit 4: 0.3333\n",
            "Digit 5: 0.5909\n",
            "Digit 6: 3.5714\n",
            "Digit 7: 1.3571\n",
            "Digit 8: 0.5500\n",
            "Digit 9: 2.9091\n",
            "Significant bias detected across digit classes.\n"
          ]
        },
        {
          "output_type": "display_data",
          "data": {
            "text/plain": [
              "<Figure size 800x500 with 1 Axes>"
            ],
            "image/png": "[encoded data removed]"
          },
          "metadata": {}
        }
      ],
      "source": [
        "import numpy as np\n",
        "from sklearn.metrics import confusion_matrix\n",
        "\n",
        "# Get model predictions\n",
        "y_pred = np.argmax(model.predict(x_test), axis=1)\n",
        "\n",
        "def treatment_equality(y_true, y_pred):\n",
        "    cm = confusion_matrix(y_true, y_pred)  # Compute confusion matrix\n",
        "    num_classes = cm.shape[0]  # Get number of classes\n",
        "    ratios = {}\n",
        "\n",
        "    for i in range(num_classes):  # Iterate over each class\n",
        "        FN = np.sum(cm[i, :]) - cm[i, i]  # False Negatives (row sum minus correct)\n",
        "        FP = np.sum(cm[:, i]) - cm[i, i]  # False Positives (column sum minus correct)\n",
        "\n",
        "        if FP == 0:\n",
        "            ratio = np.inf if FN > 0 else 1  # Handle division by zero case\n",
        "        else:\n",
        "            ratio = FN / FP\n",
        "\n",
        "        ratios[i] = ratio  # Store Treatment Equality Ratio for each digit\n",
        "\n",
        "    return ratios\n",
        "\n",
        "treatment_eq_results = treatment_equality(y_test, y_pred)\n",
        "\n",
        "# Print the ratios for each digit class (0-9)\n",
        "print(\"Treatment Equality Ratios per Class (Digit):\")\n",
        "for digit, ratio in treatment_eq_results.items():\n",
        "    print(f\"Digit {digit}: {ratio:.4f}\")\n",
        "\n",
        "# Identify potential bias\n",
        "max_diff = max(treatment_eq_results.values()) - min(treatment_eq_results.values())\n",
        "if max_diff > 1.5:  # Adjust threshold based on your analysis\n",
        "    print(\"Significant bias detected across digit classes.\")\n",
        "else:\n",
        "    print(\"Model appears to have balanced Treatment Equality.\")\n",
        "\n",
        "import matplotlib.pyplot as plt\n",
        "\n",
        "digits = list(treatment_eq_results.keys())\n",
        "ratios = list(treatment_eq_results.values())\n",
        "\n",
        "plt.figure(figsize=(8,5))\n",
        "plt.bar(digits, ratios, color='royalblue')\n",
        "plt.xlabel(\"Digit Class\")\n",
        "plt.ylabel(\"Treatment Equality (FN/FP Ratio)\")\n",
        "plt.title(\"Treatment Equality Analysis Across Digits\")\n",
        "plt.xticks(digits)\n",
        "plt.show()\n"
      ]
    },
    {
      "cell_type": "code",
      "execution_count": 8,
      "metadata": {
        "colab": {
          "base_uri": "https://localhost:8080/"
        },
        "id": "pLwB7MIT7o9K",
        "outputId": "28bb9577-2c7f-4e05-a672-4a1ff9fa1e4d"
      },
      "outputs": [
        {
          "output_type": "stream",
          "name": "stdout",
          "text": [
            "Overall Accuracy per Class (Digit):\n",
            "Digit 0: 0.9981\n",
            "Digit 1: 0.9986\n",
            "Digit 2: 0.9983\n",
            "Digit 3: 0.9968\n",
            "Digit 4: 0.9968\n",
            "Digit 5: 0.9965\n",
            "Digit 6: 0.9968\n",
            "Digit 7: 0.9967\n",
            "Digit 8: 0.9969\n",
            "Digit 9: 0.9957\n",
            "Model maintains fairness in accuracy across digits.\n"
          ]
        }
      ],
      "source": [
        "def overall_accuracy_equality(y_true, y_pred):\n",
        "    cm = confusion_matrix(y_true, y_pred)\n",
        "    num_classes = cm.shape[0]  # Number of classes (digits)\n",
        "    accuracies = {}\n",
        "\n",
        "    for i in range(num_classes):\n",
        "        TP = cm[i, i]  # True Positives\n",
        "        FN = np.sum(cm[i, :]) - TP  # False Negatives\n",
        "        FP = np.sum(cm[:, i]) - TP  # False Positives\n",
        "        TN = np.sum(cm) - (TP + FN + FP)  # True Negatives\n",
        "\n",
        "        accuracy = (TP + TN) / (TP + FP + TN + FN)  # Accuracy for the class\n",
        "        accuracies[i] = accuracy\n",
        "\n",
        "    return accuracies\n",
        "\n",
        "# Compute Overall Accuracy Equality\n",
        "overall_acc_results = overall_accuracy_equality(y_test, y_pred)\n",
        "\n",
        "# Print results\n",
        "print(\"Overall Accuracy per Class (Digit):\")\n",
        "for digit, acc in overall_acc_results.items():\n",
        "    print(f\"Digit {digit}: {acc:.4f}\")\n",
        "\n",
        "# Check fairness by computing max difference\n",
        "max_diff_acc = max(overall_acc_results.values()) - min(overall_acc_results.values())\n",
        "if max_diff_acc > 0.05:  # Threshold for fairness\n",
        "    print(\"Significant accuracy differences detected across digit classes.\")\n",
        "else:\n",
        "    print(\"Model maintains fairness in accuracy across digits.\")\n"
      ]
    },
    {
      "cell_type": "code",
      "execution_count": 9,
      "metadata": {
        "colab": {
          "base_uri": "https://localhost:8080/"
        },
        "id": "-XQsycro9X4y",
        "outputId": "d4d554e3-2a6a-416c-b4ab-1dc903105e58"
      },
      "outputs": [
        {
          "output_type": "stream",
          "name": "stdout",
          "text": [
            "\n",
            "Predictive Parity (Precision) per Class (Digit):\n",
            "Digit 0: 0.9849\n",
            "Digit 1: 0.9921\n",
            "Digit 2: 0.9894\n",
            "Digit 3: 0.9890\n",
            "Digit 4: 0.9760\n",
            "Digit 5: 0.9756\n",
            "Digit 6: 0.9926\n",
            "Digit 7: 0.9863\n",
            "Digit 8: 0.9797\n",
            "Digit 9: 0.9889\n",
            "Model maintains fairness in precision across digits.\n"
          ]
        }
      ],
      "source": [
        "def predictive_parity(y_true, y_pred):\n",
        "    cm = confusion_matrix(y_true, y_pred)\n",
        "    num_classes = cm.shape[0]  # Number of classes (digits)\n",
        "    precisions = {}\n",
        "\n",
        "    for i in range(num_classes):\n",
        "        TP = cm[i, i]  # True Positives\n",
        "        FP = np.sum(cm[:, i]) - TP  # False Positives\n",
        "\n",
        "        if (TP + FP) == 0:\n",
        "            precision = 1  # To handle division by zero\n",
        "        else:\n",
        "            precision = TP / (TP + FP)\n",
        "\n",
        "        precisions[i] = precision\n",
        "\n",
        "    return precisions\n",
        "\n",
        "# Compute Predictive Parity\n",
        "predictive_parity_results = predictive_parity(y_test, y_pred)\n",
        "\n",
        "# Print results\n",
        "print(\"\\nPredictive Parity (Precision) per Class (Digit):\")\n",
        "for digit, precision in predictive_parity_results.items():\n",
        "    print(f\"Digit {digit}: {precision:.4f}\")\n",
        "\n",
        "# Check fairness by computing max difference\n",
        "max_diff_prec = max(predictive_parity_results.values()) - min(predictive_parity_results.values())\n",
        "if max_diff_prec > 0.05:  # Threshold for fairness\n",
        "    print(\"Significant predictive parity differences detected across digit classes.\")\n",
        "else:\n",
        "    print(\"Model maintains fairness in precision across digits.\")\n"
      ]
    }
  ],
  "metadata": {
    "accelerator": "GPU",
    "colab": {
      "gpuType": "T4",
      "provenance": []
    },
    "kernelspec": {
      "display_name": "Python 3",
      "name": "python3"
    },
    "language_info": {
      "name": "python"
    }
  },
  "nbformat": 4,
  "nbformat_minor": 0
}